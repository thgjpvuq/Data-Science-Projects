{
 "cells": [
  {
   "cell_type": "code",
   "execution_count": 1,
   "id": "8ce5d0e4",
   "metadata": {},
   "outputs": [],
   "source": [
    "import pandas as pd"
   ]
  },
  {
   "cell_type": "code",
   "execution_count": 2,
   "id": "689d5196",
   "metadata": {},
   "outputs": [],
   "source": [
    "d = pd.read_csv('artwork_sample.csv')"
   ]
  },
  {
   "cell_type": "code",
   "execution_count": 3,
   "id": "4ecc95cc",
   "metadata": {},
   "outputs": [
    {
     "data": {
      "text/plain": [
       "Index(['id', 'accession_number', 'artist', 'artistRole', 'artistId', 'title',\n",
       "       'dateText', 'medium', 'creditLine', 'year', 'acquisitionYear',\n",
       "       'dimensions', 'width', 'height', 'depth', 'units', 'inscription',\n",
       "       'thumbnailCopyright', 'thumbnailUrl', 'url'],\n",
       "      dtype='object')"
      ]
     },
     "execution_count": 3,
     "metadata": {},
     "output_type": "execute_result"
    }
   ],
   "source": [
    "d.columns"
   ]
  },
  {
   "cell_type": "code",
   "execution_count": 4,
   "id": "7f6a8fde",
   "metadata": {},
   "outputs": [
    {
     "data": {
      "text/plain": [
       "Index(['id', 'accession_number', 'artist', 'artistrole', 'artistid', 'title',\n",
       "       'datetext', 'medium', 'creditline', 'year', 'acquisitionyear',\n",
       "       'dimensions', 'width', 'height', 'depth', 'units', 'inscription',\n",
       "       'thumbnailcopyright', 'thumbnailurl', 'url'],\n",
       "      dtype='object')"
      ]
     },
     "execution_count": 4,
     "metadata": {},
     "output_type": "execute_result"
    }
   ],
   "source": [
    "d.columns.str.lower()"
   ]
  },
  {
   "cell_type": "code",
   "execution_count": 6,
   "id": "e69a632c",
   "metadata": {},
   "outputs": [
    {
     "data": {
      "text/plain": [
       "['id',\n",
       " 'accession_number',\n",
       " 'artist',\n",
       " 'artistrole',\n",
       " 'artistid',\n",
       " 'title',\n",
       " 'datetext',\n",
       " 'medium',\n",
       " 'creditline',\n",
       " 'year',\n",
       " 'acquisitionyear',\n",
       " 'dimensions',\n",
       " 'width',\n",
       " 'height',\n",
       " 'depth',\n",
       " 'units',\n",
       " 'inscription',\n",
       " 'thumbnailcopyright',\n",
       " 'thumbnailurl',\n",
       " 'url']"
      ]
     },
     "execution_count": 6,
     "metadata": {},
     "output_type": "execute_result"
    }
   ],
   "source": [
    "[x.lower() for x in d.columns]"
   ]
  },
  {
   "cell_type": "code",
   "execution_count": 7,
   "id": "d5b9aa83",
   "metadata": {},
   "outputs": [],
   "source": [
    "d.columns = [x.lower() for x in d.columns]"
   ]
  },
  {
   "cell_type": "code",
   "execution_count": 8,
   "id": "7777e25a",
   "metadata": {},
   "outputs": [
    {
     "data": {
      "text/plain": [
       "Index(['id', 'accession_number', 'artist', 'artistrole', 'artistid', 'title',\n",
       "       'datetext', 'medium', 'creditline', 'year', 'acquisitionyear',\n",
       "       'dimensions', 'width', 'height', 'depth', 'units', 'inscription',\n",
       "       'thumbnailcopyright', 'thumbnailurl', 'url'],\n",
       "      dtype='object')"
      ]
     },
     "execution_count": 8,
     "metadata": {},
     "output_type": "execute_result"
    }
   ],
   "source": [
    "d.columns"
   ]
  },
  {
   "cell_type": "code",
   "execution_count": 9,
   "id": "6e77f66b",
   "metadata": {},
   "outputs": [],
   "source": [
    "d = pd.read_csv('artwork_sample.csv')"
   ]
  },
  {
   "cell_type": "code",
   "execution_count": 10,
   "id": "45fb4687",
   "metadata": {},
   "outputs": [],
   "source": [
    "d.columns = map(lambda x: x.lower(), d.columns)"
   ]
  },
  {
   "cell_type": "code",
   "execution_count": 11,
   "id": "1efb190f",
   "metadata": {},
   "outputs": [
    {
     "data": {
      "text/plain": [
       "Index(['id', 'accession_number', 'artist', 'artistrole', 'artistid', 'title',\n",
       "       'datetext', 'medium', 'creditline', 'year', 'acquisitionyear',\n",
       "       'dimensions', 'width', 'height', 'depth', 'units', 'inscription',\n",
       "       'thumbnailcopyright', 'thumbnailurl', 'url'],\n",
       "      dtype='object')"
      ]
     },
     "execution_count": 11,
     "metadata": {},
     "output_type": "execute_result"
    }
   ],
   "source": [
    "d.columns"
   ]
  },
  {
   "cell_type": "code",
   "execution_count": 30,
   "id": "f771c4f0",
   "metadata": {},
   "outputs": [],
   "source": [
    "d = pd.read_csv('artwork_sample.csv')"
   ]
  },
  {
   "cell_type": "code",
   "execution_count": 27,
   "id": "901bbdd9",
   "metadata": {},
   "outputs": [],
   "source": [
    "import re"
   ]
  },
  {
   "cell_type": "code",
   "execution_count": 32,
   "id": "46ffef43",
   "metadata": {},
   "outputs": [],
   "source": [
    "d.columns = [re.sub(r'([A-Z])', r'_\\1', x).lower() for x in d.columns]"
   ]
  },
  {
   "cell_type": "code",
   "execution_count": 34,
   "id": "f8f5a627",
   "metadata": {},
   "outputs": [
    {
     "data": {
      "text/plain": [
       "Index(['id', 'accession_number', 'artist', 'artist_role', 'artist_id', 'title',\n",
       "       'date_text', 'medium', 'credit_line', 'year', 'acquisition_year',\n",
       "       'dimensions', 'width', 'height', 'depth', 'units', 'inscription',\n",
       "       'thumbnail_copyright', 'thumbnail_url', 'url'],\n",
       "      dtype='object')"
      ]
     },
     "execution_count": 34,
     "metadata": {},
     "output_type": "execute_result"
    }
   ],
   "source": [
    "d.columns"
   ]
  },
  {
   "cell_type": "code",
   "execution_count": null,
   "id": "134fb432",
   "metadata": {},
   "outputs": [],
   "source": []
  }
 ],
 "metadata": {
  "kernelspec": {
   "display_name": "Python 3 (ipykernel)",
   "language": "python",
   "name": "python3"
  },
  "language_info": {
   "codemirror_mode": {
    "name": "ipython",
    "version": 3
   },
   "file_extension": ".py",
   "mimetype": "text/x-python",
   "name": "python",
   "nbconvert_exporter": "python",
   "pygments_lexer": "ipython3",
   "version": "3.9.7"
  }
 },
 "nbformat": 4,
 "nbformat_minor": 5
}
