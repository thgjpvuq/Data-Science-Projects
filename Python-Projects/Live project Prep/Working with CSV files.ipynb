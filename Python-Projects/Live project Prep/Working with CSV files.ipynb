{
 "cells": [
  {
   "cell_type": "markdown",
   "id": "10cf9656",
   "metadata": {},
   "source": [
    "# Working with CSV Files"
   ]
  },
  {
   "cell_type": "markdown",
   "id": "99b62596",
   "metadata": {},
   "source": [
    "## Reading a CSV File"
   ]
  },
  {
   "cell_type": "code",
   "execution_count": 1,
   "id": "fcf039e0",
   "metadata": {},
   "outputs": [],
   "source": [
    "import csv"
   ]
  },
  {
   "cell_type": "code",
   "execution_count": 2,
   "id": "0d49b911",
   "metadata": {},
   "outputs": [],
   "source": [
    "filename = \"AAPL.csv\""
   ]
  },
  {
   "cell_type": "code",
   "execution_count": 3,
   "id": "e03f87c0",
   "metadata": {},
   "outputs": [],
   "source": [
    "fields = []\n",
    "rows = []"
   ]
  },
  {
   "cell_type": "code",
   "execution_count": 4,
   "id": "62da2240",
   "metadata": {},
   "outputs": [
    {
     "name": "stdout",
     "output_type": "stream",
     "text": [
      "Total no. of rows: 185\n"
     ]
    }
   ],
   "source": [
    "# read csv file\n",
    "with open(filename, 'r') as csvfile:\n",
    "    \n",
    "    # create a csv reader object\n",
    "    csvreader = csv.reader(csvfile)\n",
    "    \n",
    "    # extract field names through first row\n",
    "    fields = next(csvreader)\n",
    "    \n",
    "    # extracting each data row one by one\n",
    "    for row in csvreader:\n",
    "        rows.append(row)\n",
    "    \n",
    "    # get total number of rows\n",
    "    print(\"Total no. of rows: %d\"%(csvreader.line_num))"
   ]
  },
  {
   "cell_type": "code",
   "execution_count": 5,
   "id": "2019e466",
   "metadata": {},
   "outputs": [
    {
     "name": "stdout",
     "output_type": "stream",
     "text": [
      "Field names are:Date, Open, High, Low, Close, Adj Close, Volume\n"
     ]
    }
   ],
   "source": [
    "# print field names\n",
    "print('Field names are:' + ', '.join(field for field in fields))"
   ]
  },
  {
   "cell_type": "code",
   "execution_count": 6,
   "id": "ddd2405a",
   "metadata": {},
   "outputs": [
    {
     "name": "stdout",
     "output_type": "stream",
     "text": [
      "\n",
      "First 5 rows are:\n",
      "\n",
      "2014-09-29 100.589996 100.690002  98.040001  99.620003  93.514290  142718700 \n",
      "\n",
      "2014-10-06  99.949997 102.379997  98.309998 100.730003  94.556244  280258200 \n",
      "\n",
      "2014-10-13 101.330002 101.779999  95.180000  97.669998  91.683792  358539800 \n",
      "\n",
      "2014-10-20  98.320000 105.489998  98.220001 105.220001  98.771042  358532900 \n",
      "\n",
      "2014-10-27 104.849998 108.040001 104.699997 108.000000 101.380676  220230600 \n",
      "\n"
     ]
    }
   ],
   "source": [
    "# printing first 5 rows\n",
    "print('\\nFirst 5 rows are:\\n')\n",
    "for row in rows[:5]:\n",
    "    # parsing each column of a row\n",
    "    for col in row:\n",
    "        print(\"%10s\"%col,end=\" \"),\n",
    "    print('\\n')"
   ]
  },
  {
   "cell_type": "markdown",
   "id": "4b2f9695",
   "metadata": {},
   "source": [
    "## Writing to a CSV File"
   ]
  },
  {
   "cell_type": "code",
   "execution_count": 1,
   "id": "e254798c",
   "metadata": {},
   "outputs": [],
   "source": [
    "# import csv module\n",
    "import csv"
   ]
  },
  {
   "cell_type": "code",
   "execution_count": 2,
   "id": "30df15fd",
   "metadata": {},
   "outputs": [],
   "source": [
    "# create field names\n",
    "fields = ['Name', 'Branch', 'Year', 'CGPA']"
   ]
  },
  {
   "cell_type": "code",
   "execution_count": 3,
   "id": "f37d392f",
   "metadata": {},
   "outputs": [],
   "source": [
    "# create data rows of csv file\n",
    "rows = [['Nikhil', 'COE', '2', '9.0'],\n",
    "        ['Sanchit', 'COE', '2', '9.1'],\n",
    "        ['Aditya', 'IT', '2', '9.3'],\n",
    "        ['Sagar', 'SE', '1', '9.5'],\n",
    "        ['Prateek', 'MCE', '3', '7.8'],\n",
    "        ['Sahil', 'EP', '2', '9.1']]"
   ]
  },
  {
   "cell_type": "code",
   "execution_count": 4,
   "id": "b5c9f8f9",
   "metadata": {},
   "outputs": [],
   "source": [
    "# name the csv file\n",
    "filename = \"university_records.csv\""
   ]
  },
  {
   "cell_type": "code",
   "execution_count": 6,
   "id": "5ac534bd",
   "metadata": {},
   "outputs": [],
   "source": [
    "# write to csv file\n",
    "with open(filename, 'w') as csvfile:\n",
    "    \n",
    "    # create a csv writer object\n",
    "    csvwriter = csv.writer(csvfile)\n",
    "    \n",
    "    # writing the files\n",
    "    csvwriter.writerow(fields)\n",
    "    \n",
    "    # writing the data rows\n",
    "    csvwriter.writerows(rows)"
   ]
  },
  {
   "cell_type": "markdown",
   "id": "90366cad",
   "metadata": {},
   "source": [
    "## Writing a Dictionary to a File"
   ]
  },
  {
   "cell_type": "code",
   "execution_count": 7,
   "id": "a763f454",
   "metadata": {},
   "outputs": [],
   "source": [
    "# import csv module\n",
    "import csv"
   ]
  },
  {
   "cell_type": "code",
   "execution_count": 8,
   "id": "e074ebed",
   "metadata": {},
   "outputs": [],
   "source": [
    "# write data rows as dictionary objects\n",
    "mydict = [{'branch': 'COE', 'cgpa': '9.0', 'name': 'Nikhil', 'year': '2'},\n",
    "          {'branch': 'COE', 'cgpa': '9.1', 'name': 'Sanchit', 'year': '2'},\n",
    "          {'branch': 'IT', 'cgpa': '9.3', 'name': 'Aditya', 'year': '2'},\n",
    "          {'branch': 'SE', 'cgpa': '9.5', 'name': 'Sagar', 'year': '1'},\n",
    "          {'branch': 'MCE', 'cgpa': '7.8', 'name': 'Prateek', 'year': '3'},\n",
    "          {'branch': 'EP', 'cgpa': '9.1', 'name': 'Sahil', 'year': '2'}]"
   ]
  },
  {
   "cell_type": "code",
   "execution_count": 9,
   "id": "2da0a734",
   "metadata": {},
   "outputs": [],
   "source": [
    "# field names\n",
    "fields = ['name', 'branch', 'year', 'cgpa']"
   ]
  },
  {
   "cell_type": "code",
   "execution_count": 10,
   "id": "1233d5db",
   "metadata": {},
   "outputs": [],
   "source": [
    "# name of csv file\n",
    "filename = \"university_records.csv\""
   ]
  },
  {
   "cell_type": "code",
   "execution_count": 11,
   "id": "5a4f19af",
   "metadata": {},
   "outputs": [],
   "source": [
    "# writing to csv file\n",
    "with open(filename, 'w') as csvfile:\n",
    "    \n",
    "    # creating a csv dictionary writer object\n",
    "    writer = csv.DictWriter(csvfile, fieldnames = fields)\n",
    "    \n",
    "    # writing headers (field names)\n",
    "    writer.writeheader()\n",
    "    \n",
    "    # writing data rows\n",
    "    writer.writerows(mydict)"
   ]
  },
  {
   "cell_type": "code",
   "execution_count": null,
   "id": "7dee86df",
   "metadata": {},
   "outputs": [],
   "source": []
  }
 ],
 "metadata": {
  "kernelspec": {
   "display_name": "Python 3 (ipykernel)",
   "language": "python",
   "name": "python3"
  },
  "language_info": {
   "codemirror_mode": {
    "name": "ipython",
    "version": 3
   },
   "file_extension": ".py",
   "mimetype": "text/x-python",
   "name": "python",
   "nbconvert_exporter": "python",
   "pygments_lexer": "ipython3",
   "version": "3.9.11"
  }
 },
 "nbformat": 4,
 "nbformat_minor": 5
}
