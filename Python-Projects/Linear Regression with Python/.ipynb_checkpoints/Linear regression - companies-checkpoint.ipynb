{
 "cells": [
  {
   "cell_type": "code",
   "execution_count": 1,
   "id": "d6390400",
   "metadata": {},
   "outputs": [],
   "source": [
    "import numpy as np\n",
    "import matplotlib.pyplot as plt\n",
    "import pandas as pd\n",
    "import seaborn as sns\n",
    "%matplotlib inline"
   ]
  },
  {
   "cell_type": "code",
   "execution_count": 2,
   "id": "a85b2323",
   "metadata": {},
   "outputs": [],
   "source": [
    "data = pd.read_csv('1000_Companies.csv')\n",
    "X = data.iloc[:, :-1].values\n",
    "y = data.iloc[:, 4].values"
   ]
  },
  {
   "cell_type": "code",
   "execution_count": 3,
   "id": "14c296e9",
   "metadata": {},
   "outputs": [
    {
     "data": {
      "text/html": [
       "<div>\n",
       "<style scoped>\n",
       "    .dataframe tbody tr th:only-of-type {\n",
       "        vertical-align: middle;\n",
       "    }\n",
       "\n",
       "    .dataframe tbody tr th {\n",
       "        vertical-align: top;\n",
       "    }\n",
       "\n",
       "    .dataframe thead th {\n",
       "        text-align: right;\n",
       "    }\n",
       "</style>\n",
       "<table border=\"1\" class=\"dataframe\">\n",
       "  <thead>\n",
       "    <tr style=\"text-align: right;\">\n",
       "      <th></th>\n",
       "      <th>R&amp;D Spend</th>\n",
       "      <th>Administration</th>\n",
       "      <th>Marketing Spend</th>\n",
       "      <th>State</th>\n",
       "      <th>Profit</th>\n",
       "    </tr>\n",
       "  </thead>\n",
       "  <tbody>\n",
       "    <tr>\n",
       "      <th>0</th>\n",
       "      <td>165349.20</td>\n",
       "      <td>136897.80</td>\n",
       "      <td>471784.10</td>\n",
       "      <td>New York</td>\n",
       "      <td>192261.83</td>\n",
       "    </tr>\n",
       "    <tr>\n",
       "      <th>1</th>\n",
       "      <td>162597.70</td>\n",
       "      <td>151377.59</td>\n",
       "      <td>443898.53</td>\n",
       "      <td>California</td>\n",
       "      <td>191792.06</td>\n",
       "    </tr>\n",
       "    <tr>\n",
       "      <th>2</th>\n",
       "      <td>153441.51</td>\n",
       "      <td>101145.55</td>\n",
       "      <td>407934.54</td>\n",
       "      <td>Florida</td>\n",
       "      <td>191050.39</td>\n",
       "    </tr>\n",
       "    <tr>\n",
       "      <th>3</th>\n",
       "      <td>144372.41</td>\n",
       "      <td>118671.85</td>\n",
       "      <td>383199.62</td>\n",
       "      <td>New York</td>\n",
       "      <td>182901.99</td>\n",
       "    </tr>\n",
       "    <tr>\n",
       "      <th>4</th>\n",
       "      <td>142107.34</td>\n",
       "      <td>91391.77</td>\n",
       "      <td>366168.42</td>\n",
       "      <td>Florida</td>\n",
       "      <td>166187.94</td>\n",
       "    </tr>\n",
       "  </tbody>\n",
       "</table>\n",
       "</div>"
      ],
      "text/plain": [
       "   R&D Spend  Administration  Marketing Spend       State     Profit\n",
       "0  165349.20       136897.80        471784.10    New York  192261.83\n",
       "1  162597.70       151377.59        443898.53  California  191792.06\n",
       "2  153441.51       101145.55        407934.54     Florida  191050.39\n",
       "3  144372.41       118671.85        383199.62    New York  182901.99\n",
       "4  142107.34        91391.77        366168.42     Florida  166187.94"
      ]
     },
     "execution_count": 3,
     "metadata": {},
     "output_type": "execute_result"
    }
   ],
   "source": [
    "data.head()"
   ]
  },
  {
   "cell_type": "code",
   "execution_count": 4,
   "id": "1959e933",
   "metadata": {},
   "outputs": [
    {
     "data": {
      "text/plain": [
       "<AxesSubplot:>"
      ]
     },
     "execution_count": 4,
     "metadata": {},
     "output_type": "execute_result"
    },
    {
     "data": {
      "image/png": "[encoded data removed]",
      "text/plain": [
       "<Figure size 432x288 with 2 Axes>"
      ]
     },
     "metadata": {
      "needs_background": "light"
     },
     "output_type": "display_data"
    }
   ],
   "source": [
    "#heatmap\n",
    "sns.heatmap(data.corr())"
   ]
  },
  {
   "cell_type": "code",
   "execution_count": 5,
   "id": "6203b583",
   "metadata": {},
   "outputs": [
    {
     "data": {
      "text/plain": [
       "(1000, 5)"
      ]
     },
     "execution_count": 5,
     "metadata": {},
     "output_type": "execute_result"
    }
   ],
   "source": [
    "data.shape"
   ]
  },
  {
   "cell_type": "code",
   "execution_count": 6,
   "id": "a8bb4ad3",
   "metadata": {
    "scrolled": true
   },
   "outputs": [],
   "source": [
    "from sklearn.preprocessing import LabelEncoder, OneHotEncoder\n",
    "labelencoder = LabelEncoder()"
   ]
  },
  {
   "cell_type": "code",
   "execution_count": 7,
   "id": "7f9fc4aa",
   "metadata": {},
   "outputs": [],
   "source": [
    "# changing State column to float type\n",
    "\n",
    "X[:, 3] = labelencoder.fit_transform(X[:, 3])"
   ]
  },
  {
   "cell_type": "code",
   "execution_count": 8,
   "id": "12d2f640",
   "metadata": {},
   "outputs": [],
   "source": [
    "onehotencoder = OneHotEncoder()\n",
    "X = onehotencoder.fit_transform(X).toarray()"
   ]
  },
  {
   "cell_type": "code",
   "execution_count": 9,
   "id": "49118470",
   "metadata": {},
   "outputs": [],
   "source": [
    "X = X[:, 1:]"
   ]
  },
  {
   "cell_type": "code",
   "execution_count": 10,
   "id": "c45e6e5c",
   "metadata": {},
   "outputs": [],
   "source": [
    "# splitting data\n",
    "from sklearn.model_selection import train_test_split\n",
    "X_train, X_test, y_train, y_test = train_test_split(X, y, test_size=0.2, random_state = 0)"
   ]
  },
  {
   "cell_type": "code",
   "execution_count": 13,
   "id": "55674a55",
   "metadata": {},
   "outputs": [
    {
     "data": {
      "text/plain": [
       "LinearRegression()"
      ]
     },
     "execution_count": 13,
     "metadata": {},
     "output_type": "execute_result"
    }
   ],
   "source": [
    "# fitting multiple linear regression to training set\n",
    "from sklearn.linear_model import LinearRegression\n",
    "regressor = LinearRegression()\n",
    "regressor.fit(X_train, y_train)"
   ]
  },
  {
   "cell_type": "code",
   "execution_count": 14,
   "id": "234963a9",
   "metadata": {},
   "outputs": [
    {
     "data": {
      "text/plain": [
       "array([119042.21861638, 118948.59590497, 119071.04663944, 118668.81758194,\n",
       "       117887.86441153, 117846.22060329, 117858.03177573, 119036.4704637 ,\n",
       "       117842.8895029 , 118432.63756028, 119034.17632746, 118653.16371937,\n",
       "       119100.53347142, 118751.89441519, 119046.45617105, 117750.88312653,\n",
       "       118705.07438846, 119046.45617105, 118661.21486025, 117842.8895029 ,\n",
       "       117885.28010357, 119177.30127535, 118668.81758194, 119018.89056107,\n",
       "       119100.35732411, 118959.85224141, 117825.19981323, 117903.47331975,\n",
       "       118915.40813503, 119046.45617105, 118649.18470151, 119070.34529239,\n",
       "       117822.31772583, 118672.72395543, 119013.84994458, 119100.99402226,\n",
       "       117842.8895029 , 118668.81758194, 118668.81758194, 118685.18062452,\n",
       "       117885.95734851, 119046.45617105, 119063.64738761, 118614.90383012,\n",
       "       118662.06724648, 118768.87701377, 118678.34017701, 118884.33878142,\n",
       "       118663.07118755, 118661.8758263 , 118668.81758194, 118668.81758194,\n",
       "       118955.0283072 , 117908.54295489, 179431.25142096, 118694.95754442,\n",
       "       118667.17919952, 117842.8895029 , 117954.59639673, 117846.54669483,\n",
       "       118664.31812337, 118352.29204612, 119038.84150297, 117841.17101706,\n",
       "       119061.56358431, 118660.81346283, 117845.32099759, 117832.52865096,\n",
       "       117856.84730465, 118668.81758194, 119049.03482382, 119046.45617105,\n",
       "       118643.81015635, 117852.00869907, 119023.48987922, 117777.36061522,\n",
       "       118643.14072458, 117884.38844784, 119025.9151875 , 119038.45085342,\n",
       "       118668.81758194, 119051.83586575, 117841.27008612, 119052.01949428,\n",
       "       117825.22121303, 117863.57839683, 119132.0409733 , 117981.91599583,\n",
       "       118995.5800194 , 117839.48391164, 117835.59540578, 118986.07162941,\n",
       "       117874.56644097, 118674.87966104, 117988.33673072, 117879.56473842,\n",
       "       118654.01536181, 117844.1347763 , 117842.8895029 , 119030.33876478,\n",
       "       118656.50006881, 118644.10414317, 117846.01842863, 118706.91783819,\n",
       "       117729.48119738, 118701.37645941, 117781.25336566, 117842.8895029 ,\n",
       "       119046.45617105, 117855.66465315, 119046.45617105, 119046.45617105,\n",
       "       117850.69486191, 117842.8895029 , 119046.45617105, 118892.30947754,\n",
       "       119046.45617105, 119010.27882314, 118992.85646637, 117828.35031726,\n",
       "       118652.41312659, 118675.07948778, 118668.81758194, 118676.5321703 ,\n",
       "       118644.96820209, 119080.55680203, 117842.8895029 , 119372.16822346,\n",
       "       119044.74340462, 119063.53934765, 117842.8895029 , 117850.39880462,\n",
       "       119011.99011832, 117876.69409281, 119034.841542  , 117842.8895029 ,\n",
       "       118670.00435977, 117830.71172749, 118654.6749121 , 118449.55939753,\n",
       "       119046.45617105, 118870.09519444, 117699.85824503, 117776.39621659,\n",
       "       118206.40467488, 117793.0651625 , 118545.61142861, 119046.45617105,\n",
       "       118627.3415629 , 119163.88522653, 118721.50199214, 118667.35220917,\n",
       "       119046.45617105, 119355.98461607, 118668.81758194, 119046.45617105,\n",
       "       118668.81758194, 118653.09728826, 117842.8895029 , 118557.62924071,\n",
       "       118981.97961745, 119044.13330155, 117865.27152646, 117702.66640089,\n",
       "       117644.79034508, 118668.81758194, 118668.81758194, 117854.24008434,\n",
       "       117835.0728848 , 117845.63562314, 118201.72904355, 118631.93636466,\n",
       "       117850.05201413, 118668.81758194, 117994.83207543, 118691.64603168,\n",
       "       118580.98524735, 117806.98284364, 117854.31634326, 119079.26675854,\n",
       "       118668.81758194, 117842.8895029 , 119044.62482333, 117855.2095649 ,\n",
       "       118689.72595714, 118953.89497895, 118494.25964741, 118825.37263634,\n",
       "       117826.83363714, 117901.69298868, 118668.81758194, 119061.54581309,\n",
       "       117941.02398298, 117842.8895029 , 119073.51982245, 119046.45617105,\n",
       "       118668.81758194, 119038.13014722, 117865.70037922, 117897.59537441])"
      ]
     },
     "execution_count": 14,
     "metadata": {},
     "output_type": "execute_result"
    }
   ],
   "source": [
    "# predicting test set results\n",
    "y_pred = regressor.predict(X_test)\n",
    "y_pred"
   ]
  },
  {
   "cell_type": "code",
   "execution_count": 15,
   "id": "b12a08ea",
   "metadata": {},
   "outputs": [
    {
     "name": "stdout",
     "output_type": "stream",
     "text": [
      "[-2.21833256e+04 -1.76896897e+01 -2.29149868e+04 ...  5.48241102e+02\n",
      "  1.70602513e+02 -6.55325566e+02]\n"
     ]
    }
   ],
   "source": [
    "# calculate the coefficients\n",
    "print(regressor.coef_)"
   ]
  },
  {
   "cell_type": "code",
   "execution_count": 16,
   "id": "f73a37b6",
   "metadata": {},
   "outputs": [
    {
     "name": "stdout",
     "output_type": "stream",
     "text": [
      "118498.21506857133\n"
     ]
    }
   ],
   "source": [
    "# calculate the intercept\n",
    "print(regressor.intercept_)"
   ]
  },
  {
   "cell_type": "code",
   "execution_count": 18,
   "id": "14858efc",
   "metadata": {},
   "outputs": [
    {
     "data": {
      "text/plain": [
       "-0.0032964207893109165"
      ]
     },
     "execution_count": 18,
     "metadata": {},
     "output_type": "execute_result"
    }
   ],
   "source": [
    "# calculate the R-squared value\n",
    "from sklearn.metrics import r2_score\n",
    "r2_score(y_test, y_pred)"
   ]
  },
  {
   "cell_type": "code",
   "execution_count": null,
   "id": "7c876856",
   "metadata": {},
   "outputs": [],
   "source": []
  }
 ],
 "metadata": {
  "kernelspec": {
   "display_name": "Python 3 (ipykernel)",
   "language": "python",
   "name": "python3"
  },
  "language_info": {
   "codemirror_mode": {
    "name": "ipython",
    "version": 3
   },
   "file_extension": ".py",
   "mimetype": "text/x-python",
   "name": "python",
   "nbconvert_exporter": "python",
   "pygments_lexer": "ipython3",
   "version": "3.9.7"
  }
 },
 "nbformat": 4,
 "nbformat_minor": 5
}
