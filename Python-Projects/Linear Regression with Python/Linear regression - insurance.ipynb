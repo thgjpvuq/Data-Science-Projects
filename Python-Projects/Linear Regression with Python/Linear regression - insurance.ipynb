{
 "cells": [
  {
   "cell_type": "code",
   "execution_count": 1,
   "id": "564fd155",
   "metadata": {},
   "outputs": [],
   "source": [
    "import numpy as np\n",
    "import matplotlib.pyplot as plt\n",
    "import pandas as pd\n",
    "import seaborn as sns\n",
    "%matplotlib inline"
   ]
  },
  {
   "cell_type": "code",
   "execution_count": 2,
   "id": "08106bd2",
   "metadata": {},
   "outputs": [],
   "source": [
    "data = pd.read_csv('insuranceData.csv')\n",
    "X = data.iloc[:, :-1].values\n",
    "y = data.iloc[:, 4].values"
   ]
  },
  {
   "cell_type": "code",
   "execution_count": 3,
   "id": "ad1ed4a9",
   "metadata": {},
   "outputs": [
    {
     "data": {
      "text/html": [
       "<div>\n",
       "<style scoped>\n",
       "    .dataframe tbody tr th:only-of-type {\n",
       "        vertical-align: middle;\n",
       "    }\n",
       "\n",
       "    .dataframe tbody tr th {\n",
       "        vertical-align: top;\n",
       "    }\n",
       "\n",
       "    .dataframe thead th {\n",
       "        text-align: right;\n",
       "    }\n",
       "</style>\n",
       "<table border=\"1\" class=\"dataframe\">\n",
       "  <thead>\n",
       "    <tr style=\"text-align: right;\">\n",
       "      <th></th>\n",
       "      <th>age</th>\n",
       "      <th>bmi</th>\n",
       "      <th>children</th>\n",
       "      <th>smoker</th>\n",
       "      <th>charges</th>\n",
       "    </tr>\n",
       "  </thead>\n",
       "  <tbody>\n",
       "    <tr>\n",
       "      <th>0</th>\n",
       "      <td>19</td>\n",
       "      <td>27.900</td>\n",
       "      <td>0</td>\n",
       "      <td>yes</td>\n",
       "      <td>16884.92400</td>\n",
       "    </tr>\n",
       "    <tr>\n",
       "      <th>1</th>\n",
       "      <td>18</td>\n",
       "      <td>33.770</td>\n",
       "      <td>1</td>\n",
       "      <td>no</td>\n",
       "      <td>1725.55230</td>\n",
       "    </tr>\n",
       "    <tr>\n",
       "      <th>2</th>\n",
       "      <td>28</td>\n",
       "      <td>33.000</td>\n",
       "      <td>3</td>\n",
       "      <td>no</td>\n",
       "      <td>4449.46200</td>\n",
       "    </tr>\n",
       "    <tr>\n",
       "      <th>3</th>\n",
       "      <td>33</td>\n",
       "      <td>22.705</td>\n",
       "      <td>0</td>\n",
       "      <td>no</td>\n",
       "      <td>21984.47061</td>\n",
       "    </tr>\n",
       "    <tr>\n",
       "      <th>4</th>\n",
       "      <td>32</td>\n",
       "      <td>28.880</td>\n",
       "      <td>0</td>\n",
       "      <td>no</td>\n",
       "      <td>3866.85520</td>\n",
       "    </tr>\n",
       "  </tbody>\n",
       "</table>\n",
       "</div>"
      ],
      "text/plain": [
       "   age     bmi  children smoker      charges\n",
       "0   19  27.900         0    yes  16884.92400\n",
       "1   18  33.770         1     no   1725.55230\n",
       "2   28  33.000         3     no   4449.46200\n",
       "3   33  22.705         0     no  21984.47061\n",
       "4   32  28.880         0     no   3866.85520"
      ]
     },
     "execution_count": 3,
     "metadata": {},
     "output_type": "execute_result"
    }
   ],
   "source": [
    "data.head()"
   ]
  },
  {
   "cell_type": "code",
   "execution_count": 4,
   "id": "37259596",
   "metadata": {},
   "outputs": [
    {
     "data": {
      "text/plain": [
       "<AxesSubplot:>"
      ]
     },
     "execution_count": 4,
     "metadata": {},
     "output_type": "execute_result"
    },
    {
     "data": {
      "image/png": "[encoded data removed]",
      "text/plain": [
       "<Figure size 432x288 with 2 Axes>"
      ]
     },
     "metadata": {
      "needs_background": "light"
     },
     "output_type": "display_data"
    }
   ],
   "source": [
    "#heatmap\n",
    "sns.heatmap(data.corr())"
   ]
  },
  {
   "cell_type": "code",
   "execution_count": 5,
   "id": "57b0c4e2",
   "metadata": {},
   "outputs": [
    {
     "data": {
      "text/plain": [
       "(1338, 5)"
      ]
     },
     "execution_count": 5,
     "metadata": {},
     "output_type": "execute_result"
    }
   ],
   "source": [
    "data.shape"
   ]
  },
  {
   "cell_type": "code",
   "execution_count": 6,
   "id": "1f31eccd",
   "metadata": {},
   "outputs": [],
   "source": [
    "from sklearn.preprocessing import LabelEncoder, OneHotEncoder\n",
    "labelencoder = LabelEncoder()"
   ]
  },
  {
   "cell_type": "code",
   "execution_count": 7,
   "id": "936e260e",
   "metadata": {},
   "outputs": [],
   "source": [
    "# changing smoker column to float type\n",
    "\n",
    "X[:, 3] = labelencoder.fit_transform(X[:, 3])"
   ]
  },
  {
   "cell_type": "code",
   "execution_count": 8,
   "id": "0b2b74e2",
   "metadata": {},
   "outputs": [],
   "source": [
    "onehotencoder = OneHotEncoder()\n",
    "X = onehotencoder.fit_transform(X).toarray()"
   ]
  },
  {
   "cell_type": "code",
   "execution_count": 46,
   "id": "0fe039ad",
   "metadata": {},
   "outputs": [],
   "source": [
    "X = X[:, 0:3]"
   ]
  },
  {
   "cell_type": "code",
   "execution_count": 53,
   "id": "29db6045",
   "metadata": {},
   "outputs": [],
   "source": [
    "# splitting data\n",
    "from sklearn.model_selection import train_test_split\n",
    "X_train, X_test, y_train, y_test = train_test_split(X, y, test_size=0.15, random_state = 42)"
   ]
  },
  {
   "cell_type": "code",
   "execution_count": 54,
   "id": "2cb9aa43",
   "metadata": {},
   "outputs": [
    {
     "data": {
      "text/plain": [
       "LinearRegression()"
      ]
     },
     "execution_count": 54,
     "metadata": {},
     "output_type": "execute_result"
    }
   ],
   "source": [
    "# fitting multiple linear regression to training set\n",
    "from sklearn.linear_model import LinearRegression\n",
    "regressor = LinearRegression()\n",
    "regressor.fit(X_train, y_train)"
   ]
  },
  {
   "cell_type": "code",
   "execution_count": 55,
   "id": "3d274592",
   "metadata": {},
   "outputs": [
    {
     "data": {
      "text/plain": [
       "array([13759.93850375, 13759.93850375, 13759.93850375, 13759.93850375,\n",
       "        9311.41890379, 13759.93850375,  9311.41890379, 13759.93850375,\n",
       "       13759.93850375, 13759.93850375, 13759.93850375, 13759.93850375,\n",
       "       13759.93850375, 13759.93850375, 13759.93850375, 13759.93850375,\n",
       "       13759.93850375, 13759.93850375, 13759.93850375, 13759.93850375,\n",
       "       13759.93850375, 13759.93850375,  9311.41890379, 13759.93850375,\n",
       "       13759.93850375, 13759.93850375, 13759.93850375, 13759.93850375,\n",
       "       13759.93850375, 13759.93850375, 13759.93850375, 13759.93850375,\n",
       "        4484.57736435, 13759.93850375, 13759.93850375, 13759.93850375,\n",
       "        4484.57736435, 13759.93850375, 13759.93850375, 13759.93850375,\n",
       "        9311.41890379, 13759.93850375, 13759.93850375, 13759.93850375,\n",
       "       13759.93850375, 13759.93850375,  4484.57736435, 13759.93850375,\n",
       "       13759.93850375, 13759.93850375, 13759.93850375, 13759.93850375,\n",
       "       13759.93850375, 13759.93850375, 13759.93850375, 13759.93850375,\n",
       "       13759.93850375, 13759.93850375, 13759.93850375, 13759.93850375,\n",
       "       13759.93850375, 13759.93850375, 13759.93850375, 13759.93850375,\n",
       "       13759.93850375, 13759.93850375,  4484.57736435, 13759.93850375,\n",
       "       13759.93850375, 13759.93850375, 13759.93850375, 13759.93850375,\n",
       "       13759.93850375, 13759.93850375, 13759.93850375, 13759.93850375,\n",
       "       13759.93850375, 13759.93850375, 13759.93850375, 13759.93850375,\n",
       "       11129.98329423, 13759.93850375, 13759.93850375, 13759.93850375,\n",
       "       13759.93850375, 13759.93850375, 13759.93850375, 13759.93850375,\n",
       "       13759.93850375, 13759.93850375, 13759.93850375, 13759.93850375,\n",
       "       13759.93850375, 13759.93850375, 13759.93850375, 13759.93850375,\n",
       "       13759.93850375, 11129.98329423, 13759.93850375, 13759.93850375,\n",
       "       13759.93850375,  9311.41890379, 13759.93850375, 13759.93850375,\n",
       "       13759.93850375, 13759.93850375, 13759.93850375, 13759.93850375,\n",
       "       13759.93850375, 13759.93850375,  9311.41890379, 13759.93850375,\n",
       "       13759.93850375, 13759.93850375, 13759.93850375, 11129.98329423,\n",
       "       13759.93850375, 13759.93850375, 13759.93850375, 13759.93850375,\n",
       "       13759.93850375, 13759.93850375, 13759.93850375, 13759.93850375,\n",
       "       13759.93850375, 13759.93850375, 13759.93850375, 13759.93850375,\n",
       "       13759.93850375, 13759.93850375, 13759.93850375, 13759.93850375,\n",
       "       13759.93850375, 13759.93850375, 13759.93850375, 13759.93850375,\n",
       "       13759.93850375, 13759.93850375, 13759.93850375, 13759.93850375,\n",
       "       13759.93850375, 13759.93850375, 13759.93850375, 13759.93850375,\n",
       "       13759.93850375, 13759.93850375, 13759.93850375, 13759.93850375,\n",
       "       13759.93850375, 13759.93850375, 13759.93850375, 13759.93850375,\n",
       "       13759.93850375, 13759.93850375, 13759.93850375, 13759.93850375,\n",
       "       13759.93850375, 13759.93850375,  9311.41890379, 13759.93850375,\n",
       "       13759.93850375,  9311.41890379, 13759.93850375, 13759.93850375,\n",
       "       13759.93850375, 13759.93850375, 13759.93850375, 13759.93850375,\n",
       "       13759.93850375, 13759.93850375, 13759.93850375, 13759.93850375,\n",
       "       13759.93850375, 13759.93850375, 13759.93850375, 13759.93850375,\n",
       "        9311.41890379, 13759.93850375, 13759.93850375, 13759.93850375,\n",
       "       13759.93850375,  4484.57736435, 13759.93850375, 13759.93850375,\n",
       "       13759.93850375, 13759.93850375, 13759.93850375, 13759.93850375,\n",
       "       13759.93850375, 13759.93850375, 13759.93850375, 13759.93850375,\n",
       "       13759.93850375, 13759.93850375, 13759.93850375, 13759.93850375,\n",
       "        9311.41890379, 13759.93850375, 13759.93850375, 13759.93850375,\n",
       "       13759.93850375])"
      ]
     },
     "execution_count": 55,
     "metadata": {},
     "output_type": "execute_result"
    }
   ],
   "source": [
    "# predicting test set results\n",
    "y_pred = regressor.predict(X_test)\n",
    "y_pred"
   ]
  },
  {
   "cell_type": "code",
   "execution_count": 56,
   "id": "c08d4061",
   "metadata": {},
   "outputs": [
    {
     "name": "stdout",
     "output_type": "stream",
     "text": [
      "[-4448.51959995 -2629.95520952 -9275.3611394 ]\n"
     ]
    }
   ],
   "source": [
    "# calculate the coefficients\n",
    "print(regressor.coef_)"
   ]
  },
  {
   "cell_type": "code",
   "execution_count": 57,
   "id": "69e71126",
   "metadata": {},
   "outputs": [
    {
     "name": "stdout",
     "output_type": "stream",
     "text": [
      "13759.938503747573\n"
     ]
    }
   ],
   "source": [
    "# calculate the intercept\n",
    "print(regressor.intercept_)"
   ]
  },
  {
   "cell_type": "code",
   "execution_count": 58,
   "id": "7bafa70e",
   "metadata": {},
   "outputs": [
    {
     "data": {
      "text/plain": [
       "0.011074255464544325"
      ]
     },
     "execution_count": 58,
     "metadata": {},
     "output_type": "execute_result"
    }
   ],
   "source": [
    "# calculate the R-squared value\n",
    "from sklearn.metrics import r2_score\n",
    "r2_score(y_test, y_pred)"
   ]
  },
  {
   "cell_type": "code",
   "execution_count": null,
   "id": "c1786758",
   "metadata": {},
   "outputs": [],
   "source": []
  }
 ],
 "metadata": {
  "kernelspec": {
   "display_name": "Python 3 (ipykernel)",
   "language": "python",
   "name": "python3"
  },
  "language_info": {
   "codemirror_mode": {
    "name": "ipython",
    "version": 3
   },
   "file_extension": ".py",
   "mimetype": "text/x-python",
   "name": "python",
   "nbconvert_exporter": "python",
   "pygments_lexer": "ipython3",
   "version": "3.9.7"
  }
 },
 "nbformat": 4,
 "nbformat_minor": 5
}
