{
 "cells": [
  {
   "cell_type": "code",
   "execution_count": 1,
   "id": "1402b280",
   "metadata": {},
   "outputs": [],
   "source": [
    "import pandas as pd\n",
    "import matplotlib.pyplot as plt\n",
    "import numpy as np"
   ]
  },
  {
   "cell_type": "code",
   "execution_count": 2,
   "id": "ec3d38ef",
   "metadata": {},
   "outputs": [],
   "source": [
    "data = pd.read_csv('countries.csv')"
   ]
  },
  {
   "cell_type": "markdown",
   "id": "a3056be3",
   "metadata": {},
   "source": [
    "### Preparing data (Asia, Africa, year 1952)"
   ]
  },
  {
   "cell_type": "code",
   "execution_count": 3,
   "id": "b5a55d0b",
   "metadata": {},
   "outputs": [
    {
     "data": {
      "text/html": [
       "<div>\n",
       "<style scoped>\n",
       "    .dataframe tbody tr th:only-of-type {\n",
       "        vertical-align: middle;\n",
       "    }\n",
       "\n",
       "    .dataframe tbody tr th {\n",
       "        vertical-align: top;\n",
       "    }\n",
       "\n",
       "    .dataframe thead th {\n",
       "        text-align: right;\n",
       "    }\n",
       "</style>\n",
       "<table border=\"1\" class=\"dataframe\">\n",
       "  <thead>\n",
       "    <tr style=\"text-align: right;\">\n",
       "      <th></th>\n",
       "      <th>country</th>\n",
       "      <th>continent</th>\n",
       "      <th>year</th>\n",
       "      <th>lifeExpectancy</th>\n",
       "      <th>population</th>\n",
       "      <th>gdpPerCapita</th>\n",
       "    </tr>\n",
       "  </thead>\n",
       "  <tbody>\n",
       "    <tr>\n",
       "      <th>0</th>\n",
       "      <td>Afghanistan</td>\n",
       "      <td>Asia</td>\n",
       "      <td>1952</td>\n",
       "      <td>28.801</td>\n",
       "      <td>8425333</td>\n",
       "      <td>779.445314</td>\n",
       "    </tr>\n",
       "    <tr>\n",
       "      <th>1</th>\n",
       "      <td>Afghanistan</td>\n",
       "      <td>Asia</td>\n",
       "      <td>1957</td>\n",
       "      <td>30.332</td>\n",
       "      <td>9240934</td>\n",
       "      <td>820.853030</td>\n",
       "    </tr>\n",
       "    <tr>\n",
       "      <th>2</th>\n",
       "      <td>Afghanistan</td>\n",
       "      <td>Asia</td>\n",
       "      <td>1962</td>\n",
       "      <td>31.997</td>\n",
       "      <td>10267083</td>\n",
       "      <td>853.100710</td>\n",
       "    </tr>\n",
       "    <tr>\n",
       "      <th>3</th>\n",
       "      <td>Afghanistan</td>\n",
       "      <td>Asia</td>\n",
       "      <td>1967</td>\n",
       "      <td>34.020</td>\n",
       "      <td>11537966</td>\n",
       "      <td>836.197138</td>\n",
       "    </tr>\n",
       "    <tr>\n",
       "      <th>4</th>\n",
       "      <td>Afghanistan</td>\n",
       "      <td>Asia</td>\n",
       "      <td>1972</td>\n",
       "      <td>36.088</td>\n",
       "      <td>13079460</td>\n",
       "      <td>739.981106</td>\n",
       "    </tr>\n",
       "  </tbody>\n",
       "</table>\n",
       "</div>"
      ],
      "text/plain": [
       "       country continent  year  lifeExpectancy  population  gdpPerCapita\n",
       "0  Afghanistan      Asia  1952          28.801     8425333    779.445314\n",
       "1  Afghanistan      Asia  1957          30.332     9240934    820.853030\n",
       "2  Afghanistan      Asia  1962          31.997    10267083    853.100710\n",
       "3  Afghanistan      Asia  1967          34.020    11537966    836.197138\n",
       "4  Afghanistan      Asia  1972          36.088    13079460    739.981106"
      ]
     },
     "execution_count": 3,
     "metadata": {},
     "output_type": "execute_result"
    }
   ],
   "source": [
    "data.head()"
   ]
  },
  {
   "cell_type": "code",
   "execution_count": 6,
   "id": "bdfc0999",
   "metadata": {},
   "outputs": [
    {
     "data": {
      "text/html": [
       "<div>\n",
       "<style scoped>\n",
       "    .dataframe tbody tr th:only-of-type {\n",
       "        vertical-align: middle;\n",
       "    }\n",
       "\n",
       "    .dataframe tbody tr th {\n",
       "        vertical-align: top;\n",
       "    }\n",
       "\n",
       "    .dataframe thead th {\n",
       "        text-align: right;\n",
       "    }\n",
       "</style>\n",
       "<table border=\"1\" class=\"dataframe\">\n",
       "  <thead>\n",
       "    <tr style=\"text-align: right;\">\n",
       "      <th></th>\n",
       "      <th>country</th>\n",
       "      <th>continent</th>\n",
       "      <th>year</th>\n",
       "      <th>lifeExpectancy</th>\n",
       "      <th>population</th>\n",
       "      <th>gdpPerCapita</th>\n",
       "    </tr>\n",
       "  </thead>\n",
       "  <tbody>\n",
       "    <tr>\n",
       "      <th>0</th>\n",
       "      <td>Afghanistan</td>\n",
       "      <td>Asia</td>\n",
       "      <td>1952</td>\n",
       "      <td>28.801</td>\n",
       "      <td>8425333</td>\n",
       "      <td>779.445314</td>\n",
       "    </tr>\n",
       "    <tr>\n",
       "      <th>12</th>\n",
       "      <td>Albania</td>\n",
       "      <td>Europe</td>\n",
       "      <td>1952</td>\n",
       "      <td>55.230</td>\n",
       "      <td>1282697</td>\n",
       "      <td>1601.056136</td>\n",
       "    </tr>\n",
       "    <tr>\n",
       "      <th>24</th>\n",
       "      <td>Algeria</td>\n",
       "      <td>Africa</td>\n",
       "      <td>1952</td>\n",
       "      <td>43.077</td>\n",
       "      <td>9279525</td>\n",
       "      <td>2449.008185</td>\n",
       "    </tr>\n",
       "    <tr>\n",
       "      <th>36</th>\n",
       "      <td>Angola</td>\n",
       "      <td>Africa</td>\n",
       "      <td>1952</td>\n",
       "      <td>30.015</td>\n",
       "      <td>4232095</td>\n",
       "      <td>3520.610273</td>\n",
       "    </tr>\n",
       "    <tr>\n",
       "      <th>48</th>\n",
       "      <td>Argentina</td>\n",
       "      <td>Americas</td>\n",
       "      <td>1952</td>\n",
       "      <td>62.485</td>\n",
       "      <td>17876956</td>\n",
       "      <td>5911.315053</td>\n",
       "    </tr>\n",
       "    <tr>\n",
       "      <th>...</th>\n",
       "      <td>...</td>\n",
       "      <td>...</td>\n",
       "      <td>...</td>\n",
       "      <td>...</td>\n",
       "      <td>...</td>\n",
       "      <td>...</td>\n",
       "    </tr>\n",
       "    <tr>\n",
       "      <th>1644</th>\n",
       "      <td>Vietnam</td>\n",
       "      <td>Asia</td>\n",
       "      <td>1952</td>\n",
       "      <td>40.412</td>\n",
       "      <td>26246839</td>\n",
       "      <td>605.066492</td>\n",
       "    </tr>\n",
       "    <tr>\n",
       "      <th>1656</th>\n",
       "      <td>West Bank and Gaza</td>\n",
       "      <td>Asia</td>\n",
       "      <td>1952</td>\n",
       "      <td>43.160</td>\n",
       "      <td>1030585</td>\n",
       "      <td>1515.592329</td>\n",
       "    </tr>\n",
       "    <tr>\n",
       "      <th>1668</th>\n",
       "      <td>Yemen, Rep.</td>\n",
       "      <td>Asia</td>\n",
       "      <td>1952</td>\n",
       "      <td>32.548</td>\n",
       "      <td>4963829</td>\n",
       "      <td>781.717576</td>\n",
       "    </tr>\n",
       "    <tr>\n",
       "      <th>1680</th>\n",
       "      <td>Zambia</td>\n",
       "      <td>Africa</td>\n",
       "      <td>1952</td>\n",
       "      <td>42.038</td>\n",
       "      <td>2672000</td>\n",
       "      <td>1147.388831</td>\n",
       "    </tr>\n",
       "    <tr>\n",
       "      <th>1692</th>\n",
       "      <td>Zimbabwe</td>\n",
       "      <td>Africa</td>\n",
       "      <td>1952</td>\n",
       "      <td>48.451</td>\n",
       "      <td>3080907</td>\n",
       "      <td>406.884115</td>\n",
       "    </tr>\n",
       "  </tbody>\n",
       "</table>\n",
       "<p>142 rows × 6 columns</p>\n",
       "</div>"
      ],
      "text/plain": [
       "                 country continent  year  lifeExpectancy  population  \\\n",
       "0            Afghanistan      Asia  1952          28.801     8425333   \n",
       "12               Albania    Europe  1952          55.230     1282697   \n",
       "24               Algeria    Africa  1952          43.077     9279525   \n",
       "36                Angola    Africa  1952          30.015     4232095   \n",
       "48             Argentina  Americas  1952          62.485    17876956   \n",
       "...                  ...       ...   ...             ...         ...   \n",
       "1644             Vietnam      Asia  1952          40.412    26246839   \n",
       "1656  West Bank and Gaza      Asia  1952          43.160     1030585   \n",
       "1668         Yemen, Rep.      Asia  1952          32.548     4963829   \n",
       "1680              Zambia    Africa  1952          42.038     2672000   \n",
       "1692            Zimbabwe    Africa  1952          48.451     3080907   \n",
       "\n",
       "      gdpPerCapita  \n",
       "0       779.445314  \n",
       "12     1601.056136  \n",
       "24     2449.008185  \n",
       "36     3520.610273  \n",
       "48     5911.315053  \n",
       "...            ...  \n",
       "1644    605.066492  \n",
       "1656   1515.592329  \n",
       "1668    781.717576  \n",
       "1680   1147.388831  \n",
       "1692    406.884115  \n",
       "\n",
       "[142 rows x 6 columns]"
      ]
     },
     "execution_count": 6,
     "metadata": {},
     "output_type": "execute_result"
    }
   ],
   "source": [
    "year_1952 = data[data.year == 1952] # retrieving data for the year 1952\n",
    "year_1952"
   ]
  },
  {
   "cell_type": "code",
   "execution_count": 44,
   "id": "adae6479",
   "metadata": {},
   "outputs": [],
   "source": [
    "asia_1952 = year_1952[year_1952.continent == 'Asia'] # separating Asia and Africa continents for comparison\n",
    "\n",
    "africa_1952 = year_1952[year_1952.continent == 'Africa']"
   ]
  },
  {
   "cell_type": "code",
   "execution_count": 22,
   "id": "758d9133",
   "metadata": {},
   "outputs": [
    {
     "name": "stdout",
     "output_type": "stream",
     "text": [
      "33\n",
      "52\n"
     ]
    }
   ],
   "source": [
    "print(len(set(asia_1952.country)))\n",
    "print(len(set(africa_1952.country)))"
   ]
  },
  {
   "cell_type": "code",
   "execution_count": 26,
   "id": "02f8dadd",
   "metadata": {},
   "outputs": [
    {
     "name": "stdout",
     "output_type": "stream",
     "text": [
      "Mean Life Expectancy in Asia for 1952:\n",
      "46.314393939393945\n",
      "Mean Life Expectancy in Africa for 1952:\n",
      "39.1355\n",
      "Median Life Expectancy in Asia for 1952:\n",
      "44.869\n",
      "Median Life Expectancy in Africa for 1952:\n",
      "38.833\n"
     ]
    }
   ],
   "source": [
    "print('Mean Life Expectancy in Asia for 1952:')\n",
    "print(asia_1952.lifeExpectancy.mean())\n",
    "print('Mean Life Expectancy in Africa for 1952:')\n",
    "print(africa_1952.lifeExpectancy.mean())\n",
    "\n",
    "print('Median Life Expectancy in Asia for 1952:')\n",
    "print(asia_1952.lifeExpectancy.median())\n",
    "print('Median Life Expectancy in Africa for 1952:')\n",
    "print(africa_1952.lifeExpectancy.median())"
   ]
  },
  {
   "cell_type": "markdown",
   "id": "afb7f4ab",
   "metadata": {},
   "source": [
    "### Histogram plots"
   ]
  },
  {
   "cell_type": "code",
   "execution_count": 45,
   "id": "918a721a",
   "metadata": {},
   "outputs": [
    {
     "data": {
      "image/png": "[encoded data removed]",
      "text/plain": [
       "<Figure size 432x288 with 2 Axes>"
      ]
     },
     "metadata": {
      "needs_background": "light"
     },
     "output_type": "display_data"
    }
   ],
   "source": [
    "# plotting histograms to compare life expectancy in Asia and Africa in year 1952\n",
    "\n",
    "plt.subplot(2, 1, 1)\n",
    "plt.title('Life Expectancy for Year 1952')\n",
    "plt.hist(asia_1952.lifeExpectancy, 15, range=(0, 70), edgecolor= 'black')\n",
    "plt.ylabel('Asia')\n",
    "plt.ylim([0, 20])\n",
    "\n",
    "plt.subplot(2, 1, 2)\n",
    "plt.hist(africa_1952.lifeExpectancy, 15, range=(0, 70), edgecolor= 'black')\n",
    "plt.ylabel('Africa')\n",
    "plt.ylim([0, 20])\n",
    "plt.show()"
   ]
  },
  {
   "cell_type": "code",
   "execution_count": 48,
   "id": "21fa7036",
   "metadata": {},
   "outputs": [],
   "source": [
    "# We can gather that the majority of countries had an average life expectancy\n",
    "# of 40-50 years. Asia had many more countries live between 60-70, as Africa had none.\n",
    "# This data only shows how many countries had a given life expectancy."
   ]
  },
  {
   "cell_type": "code",
   "execution_count": null,
   "id": "11020c56",
   "metadata": {},
   "outputs": [],
   "source": []
  }
 ],
 "metadata": {
  "kernelspec": {
   "display_name": "Python 3 (ipykernel)",
   "language": "python",
   "name": "python3"
  },
  "language_info": {
   "codemirror_mode": {
    "name": "ipython",
    "version": 3
   },
   "file_extension": ".py",
   "mimetype": "text/x-python",
   "name": "python",
   "nbconvert_exporter": "python",
   "pygments_lexer": "ipython3",
   "version": "3.9.7"
  }
 },
 "nbformat": 4,
 "nbformat_minor": 5
}
